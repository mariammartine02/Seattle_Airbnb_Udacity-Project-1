{
 "cells": [
  {
   "cell_type": "markdown",
   "id": "4a06dd42",
   "metadata": {},
   "source": [
    "### Seattle Airbnb Survey Data Analysis\n",
    "\n",
    "Author: Mariam Martine Ndoyela"
   ]
  },
  {
   "cell_type": "markdown",
   "id": "a89eaeb0",
   "metadata": {},
   "source": [
    "### Introduction\n",
    "The goal of this project is to take a deep dive, comprehend, navigate, and gather information on what's happening with Seattle's Airbnb. We will be able to address a few queries with the information provided. Join me as we explore costs, types of rooms, and room availability for the shared data set. Yes, it will be enjoyable; in fact, for certain readers, it will seem as though we have already arrived in Seattle."
   ]
  },
  {
   "cell_type": "markdown",
   "id": "6202fd83",
   "metadata": {},
   "source": [
    "### CRISP-DM Steps\n",
    "- Business Understanding\n",
    "- Data Understanding\n",
    "- Data Preparation\n",
    "- Data visualisation\n",
    "- Conclusion"
   ]
  },
  {
   "cell_type": "markdown",
   "id": "f45f89f5",
   "metadata": {},
   "source": [
    "### Business Understanding\n",
    "\n",
    "As part of the Udacity project, we have to write a blog post using any data collection that we want. My gaze fell upon Seattle's Airbnb; Udacity has given me access to three sets of data: calendar, review, and listing. I manually examined the dataset to see what was there, and from there, I came up with three questions that will be answered as we proceed through the process:\n",
    "- i. What is the monthly availability trend of rooms?\n",
    "- ii. Which room type has the greatest count, and which one has the lowest? What is the price range for each type of room? \n",
    "- iii. What are the top five places that have received alot of comments/reviews from 2009 to 2016 (as per given dataset)\n",
    "\n",
    "As I mentioned, there will be a lot of additional helpful information that we discover along the way. Hold Your Gaze Up enjoy a ton of Seattle Airbnb findings &#x1F600;&#x1F600;&#x1F600;"
   ]
  },
  {
   "cell_type": "markdown",
   "id": "eb836f19",
   "metadata": {},
   "source": [
    "### Dependencies"
   ]
  },
  {
   "cell_type": "code",
   "execution_count": 1,
   "id": "285ae8f1",
   "metadata": {
    "scrolled": true
   },
   "outputs": [
    {
     "name": "stdout",
     "output_type": "stream",
     "text": [
      "Defaulting to user installation because normal site-packages is not writeable\n",
      "Requirement already satisfied: emoji in /home/martm002/.local/lib/python3.8/site-packages (2.11.0)\n",
      "\u001b[33mDEPRECATION: celery 3.1.26.post2 has a non-standard dependency specifier pytz>dev. pip 24.0 will enforce this behaviour change. A possible replacement is to upgrade to a newer version of celery or contact the author to suggest that they release a version with a conforming dependency specifiers. Discussion can be found at https://github.com/pypa/pip/issues/12063\u001b[0m\u001b[33m\n",
      "\u001b[0m\u001b[33mDEPRECATION: pyodbc 4.0.0-unsupported has a non-standard version number. pip 24.0 will enforce this behaviour change. A possible replacement is to upgrade to a newer version of pyodbc or contact the author to suggest that they release a version with a conforming version number. Discussion can be found at https://github.com/pypa/pip/issues/12063\u001b[0m\u001b[33m\n",
      "\u001b[0m\n",
      "\u001b[1m[\u001b[0m\u001b[34;49mnotice\u001b[0m\u001b[1;39;49m]\u001b[0m\u001b[39;49m A new release of pip is available: \u001b[0m\u001b[31;49m23.3.1\u001b[0m\u001b[39;49m -> \u001b[0m\u001b[32;49m24.0\u001b[0m\n",
      "\u001b[1m[\u001b[0m\u001b[34;49mnotice\u001b[0m\u001b[1;39;49m]\u001b[0m\u001b[39;49m To update, run: \u001b[0m\u001b[32;49mpip install --upgrade pip\u001b[0m\n",
      "Note: you may need to restart the kernel to use updated packages.\n"
     ]
    }
   ],
   "source": [
    "pip install emoji"
   ]
  },
  {
   "cell_type": "markdown",
   "id": "a25239f5",
   "metadata": {},
   "source": [
    "### Import packages &#x1F4E6;"
   ]
  },
  {
   "cell_type": "code",
   "execution_count": 2,
   "id": "6caca8d2",
   "metadata": {},
   "outputs": [],
   "source": [
    "# Import NumPy for numerical operations\n",
    "import numpy as np \n",
    "\n",
    "# Import pandas for data manipulation and analysis\n",
    "import pandas as pd \n",
    "\n",
    "# Import matplotlib for data visualization\n",
    "import matplotlib.pyplot as plt  \n",
    "\n",
    "# Import seaborn for statistical data visualization\n",
    "import seaborn as sns  \n",
    "\n",
    "# Import emoji for working with emojis in text data\n",
    "import emoji  \n",
    "\n",
    "# Import RandomForestRegressor from scikit-learn for regression\n",
    "from sklearn.ensemble import RandomForestRegressor \n",
    "\n",
    "# Import cross_val_score for cross-validation\n",
    "from sklearn.model_selection import cross_val_score \n",
    "\n",
    "# Import Counter for counting occurrences of elements\n",
    "from collections import Counter  \n",
    "\n",
    "# Set matplotlib to display plots inline in the Jupyter Notebook\n",
    "%matplotlib inline\n",
    "\n",
    "# Ignore any warnings that may occur during execution\n",
    "import warnings\n",
    "warnings.filterwarnings('ignore')"
   ]
  },
  {
   "cell_type": "markdown",
   "id": "ef176168",
   "metadata": {},
   "source": [
    "### Data Set, Q&A "
   ]
  },
  {
   "cell_type": "markdown",
   "id": "78d5487b",
   "metadata": {},
   "source": [
    "### i. Calendar &#x1F4C5;\n",
    "\n",
    "- The primary purpose of this data frame is availability and prices of rooms on a given day of the month. Let's get started &#x1F3C3;&#x1F3C3;&#x1F3C3;"
   ]
  },
  {
   "cell_type": "markdown",
   "id": "17af5eed",
   "metadata": {},
   "source": [
    "- Data Understanding"
   ]
  },
  {
   "cell_type": "code",
   "execution_count": 3,
   "id": "055fe8f0",
   "metadata": {},
   "outputs": [],
   "source": [
    "# Load data from the 'calendar.csv' file into a pandas DataFrame\n",
    "\n",
    "seattle_calendar = pd.read_csv('calendar.csv')"
   ]
  },
  {
   "cell_type": "code",
   "execution_count": 4,
   "id": "c3d895e2",
   "metadata": {
    "scrolled": true
   },
   "outputs": [
    {
     "data": {
      "text/html": [
       "<div>\n",
       "<style scoped>\n",
       "    .dataframe tbody tr th:only-of-type {\n",
       "        vertical-align: middle;\n",
       "    }\n",
       "\n",
       "    .dataframe tbody tr th {\n",
       "        vertical-align: top;\n",
       "    }\n",
       "\n",
       "    .dataframe thead th {\n",
       "        text-align: right;\n",
       "    }\n",
       "</style>\n",
       "<table border=\"1\" class=\"dataframe\">\n",
       "  <thead>\n",
       "    <tr style=\"text-align: right;\">\n",
       "      <th></th>\n",
       "      <th>listing_id</th>\n",
       "      <th>date</th>\n",
       "      <th>available</th>\n",
       "      <th>price</th>\n",
       "    </tr>\n",
       "  </thead>\n",
       "  <tbody>\n",
       "    <tr>\n",
       "      <th>0</th>\n",
       "      <td>241032</td>\n",
       "      <td>1/4/2016</td>\n",
       "      <td>t</td>\n",
       "      <td>$85.00</td>\n",
       "    </tr>\n",
       "    <tr>\n",
       "      <th>1</th>\n",
       "      <td>241032</td>\n",
       "      <td>1/5/2016</td>\n",
       "      <td>t</td>\n",
       "      <td>$85.00</td>\n",
       "    </tr>\n",
       "  </tbody>\n",
       "</table>\n",
       "</div>"
      ],
      "text/plain": [
       "   listing_id      date available    price\n",
       "0      241032  1/4/2016         t  $85.00 \n",
       "1      241032  1/5/2016         t  $85.00 "
      ]
     },
     "execution_count": 4,
     "metadata": {},
     "output_type": "execute_result"
    }
   ],
   "source": [
    "# Display the first 2 rows of the seattle_calendar DataFrame\n",
    "\n",
    "seattle_calendar.head(2)"
   ]
  },
  {
   "cell_type": "code",
   "execution_count": 5,
   "id": "e9295dc9",
   "metadata": {
    "scrolled": true
   },
   "outputs": [
    {
     "name": "stdout",
     "output_type": "stream",
     "text": [
      "<class 'pandas.core.frame.DataFrame'>\n",
      "RangeIndex: 1048575 entries, 0 to 1048574\n",
      "Data columns (total 4 columns):\n",
      " #   Column      Non-Null Count    Dtype \n",
      "---  ------      --------------    ----- \n",
      " 0   listing_id  1048575 non-null  int64 \n",
      " 1   date        1048575 non-null  object\n",
      " 2   available   1048575 non-null  object\n",
      " 3   price       705913 non-null   object\n",
      "dtypes: int64(1), object(3)\n",
      "memory usage: 32.0+ MB\n"
     ]
    }
   ],
   "source": [
    "# Display information about the seattle_calendar DataFrame\n",
    "\n",
    "seattle_calendar.info()"
   ]
  },
  {
   "cell_type": "markdown",
   "id": "a7bc606e",
   "metadata": {},
   "source": [
    "- Data Preparation"
   ]
  },
  {
   "cell_type": "code",
   "execution_count": 6,
   "id": "6db8d134",
   "metadata": {},
   "outputs": [
    {
     "data": {
      "text/plain": [
       "listing_id    0.000000\n",
       "date          0.000000\n",
       "available     0.000000\n",
       "price         0.326788\n",
       "dtype: float64"
      ]
     },
     "execution_count": 6,
     "metadata": {},
     "output_type": "execute_result"
    }
   ],
   "source": [
    "# Calculate the percentage of missing values in each column of the seattle_calendar DataFrame\n",
    "seattle_calendar.isnull().sum() / seattle_calendar.shape[0]"
   ]
  },
  {
   "cell_type": "code",
   "execution_count": 7,
   "id": "ccad9dce",
   "metadata": {
    "scrolled": true
   },
   "outputs": [
    {
     "name": "stdout",
     "output_type": "stream",
     "text": [
      "0           $85.00 \n",
      "1           $85.00 \n",
      "2                 0\n",
      "3                 0\n",
      "4                 0\n",
      "             ...   \n",
      "1048570    $120.00 \n",
      "1048571    $120.00 \n",
      "1048572    $120.00 \n",
      "1048573    $120.00 \n",
      "1048574    $120.00 \n",
      "Name: price, Length: 1048575, dtype: object\n"
     ]
    }
   ],
   "source": [
    "# Fill missing values in the 'price' column of the seattle_calendar DataFrame with 0\n",
    "seattle_calendar['price'].fillna(0, inplace=True)\n",
    "\n",
    "# Print the 'price' column\n",
    "print(seattle_calendar['price'])"
   ]
  },
  {
   "cell_type": "code",
   "execution_count": 8,
   "id": "327ffe18",
   "metadata": {},
   "outputs": [
    {
     "data": {
      "text/plain": [
       "listing_id    0.0\n",
       "date          0.0\n",
       "available     0.0\n",
       "price         0.0\n",
       "dtype: float64"
      ]
     },
     "execution_count": 8,
     "metadata": {},
     "output_type": "execute_result"
    }
   ],
   "source": [
    "# Check if there are any null values in the seattle_calendar DataFrame after treating them\n",
    "seattle_calendar.isnull().sum() / seattle_calendar.shape[0]"
   ]
  },
  {
   "cell_type": "code",
   "execution_count": 9,
   "id": "d7db4a4b",
   "metadata": {},
   "outputs": [
    {
     "name": "stdout",
     "output_type": "stream",
     "text": [
      "0           85.0\n",
      "1           85.0\n",
      "2            0.0\n",
      "3            0.0\n",
      "4            0.0\n",
      "           ...  \n",
      "1048570    120.0\n",
      "1048571    120.0\n",
      "1048572    120.0\n",
      "1048573    120.0\n",
      "1048574    120.0\n",
      "Name: price, Length: 1048575, dtype: float64\n"
     ]
    }
   ],
   "source": [
    "# Convert the 'price' column in the seattle_calendar DataFrame to string data type\n",
    "seattle_calendar['price'] = seattle_calendar['price'].astype(str)\n",
    "\n",
    "\n",
    "# Remove the dollar sign ($) from the 'price' column in the seattle_calendar DataFrame\n",
    "seattle_calendar['price'] = seattle_calendar['price'].str.replace('$', '')\n",
    "\n",
    "\n",
    "# Remove commas from the 'price' column in the seattle_calendar DataFrame\n",
    "seattle_calendar['price'] = seattle_calendar['price'].str.replace(',', '')\n",
    "\n",
    "\n",
    "# Convert the 'price' column of the seattle_calendar DataFrame to float data type\n",
    "seattle_calendar['price'] = seattle_calendar['price'].astype(float)\n",
    "\n",
    "\n",
    "# Print the 'price' column of the seattle_calendar DataFrame\n",
    "print(seattle_calendar['price'])"
   ]
  },
  {
   "cell_type": "markdown",
   "id": "6b61b139",
   "metadata": {},
   "source": [
    "- Data Visualisation"
   ]
  },
  {
   "cell_type": "code",
   "execution_count": 10,
   "id": "cc2eeb1a",
   "metadata": {
    "scrolled": true
   },
   "outputs": [
    {
     "data": {
      "image/png": "[encoded data removed]",
      "text/plain": [
       "<Figure size 432x288 with 1 Axes>"
      ]
     },
     "metadata": {
      "needs_background": "light"
     },
     "output_type": "display_data"
    }
   ],
   "source": [
    "#Filter the data frame to include only the relevant columns and convert the \"date\" column to a datetime format:\n",
    "seattle_calendar['date'] = pd.to_datetime(seattle_calendar['date'])\n",
    "df = seattle_calendar[['date', 'available']]\n",
    "\n",
    "#Create a new column to represent the month:\n",
    "df['month'] = df['date'].dt.month\n",
    "\n",
    "#Group the data by month and availability, and count the number of occurrences:\n",
    "df_grouped = df.groupby(['month', 'available']).size().unstack()\n",
    "\n",
    "# Define custom colors for the bars\n",
    "colors = ['#FF0000', '#808080']  # Red for \"Not Available\", Green for \"Available\"\n",
    "\n",
    "# Plot the grouped bar graph with custom colors\n",
    "df_grouped.plot(kind='bar', color=colors)\n",
    "plt.xlabel('Month')\n",
    "plt.ylabel('Count')\n",
    "plt.title('Monthly Availability of Rooms')\n",
    "plt.legend(['Not Available', 'Available'])\n",
    "plt.show()"
   ]
  },
  {
   "cell_type": "markdown",
   "id": "f7349839",
   "metadata": {},
   "source": [
    "### Answer\n",
    "\n",
    "- In January and July 2016, alot of rooms where not available\n",
    "- In March and December 2016 alot of rooms were available"
   ]
  },
  {
   "cell_type": "markdown",
   "id": "73215e2e",
   "metadata": {},
   "source": [
    "# "
   ]
  },
  {
   "cell_type": "markdown",
   "id": "23770986",
   "metadata": {},
   "source": [
    "### ii. Listing &#x1F3E0;\n",
    "This data frame has several functions, a few of which are to display room names, room types, review scores, hostnames, and plenty of other data. Join me and enjoy in these finds &#x1F490;&#x1F490;&#x1F490;"
   ]
  },
  {
   "cell_type": "markdown",
   "id": "8d0be981",
   "metadata": {},
   "source": [
    "- Data Understanding"
   ]
  },
  {
   "cell_type": "code",
   "execution_count": 11,
   "id": "7c8daf60",
   "metadata": {},
   "outputs": [],
   "source": [
    "# Load data from the 'listings.csv' file into a pandas DataFrame\n",
    "seattle_listing = pd.read_csv('listings.csv')"
   ]
  },
  {
   "cell_type": "code",
   "execution_count": 12,
   "id": "a5d96319",
   "metadata": {
    "scrolled": true
   },
   "outputs": [
    {
     "data": {
      "text/html": [
       "<div>\n",
       "<style scoped>\n",
       "    .dataframe tbody tr th:only-of-type {\n",
       "        vertical-align: middle;\n",
       "    }\n",
       "\n",
       "    .dataframe tbody tr th {\n",
       "        vertical-align: top;\n",
       "    }\n",
       "\n",
       "    .dataframe thead th {\n",
       "        text-align: right;\n",
       "    }\n",
       "</style>\n",
       "<table border=\"1\" class=\"dataframe\">\n",
       "  <thead>\n",
       "    <tr style=\"text-align: right;\">\n",
       "      <th></th>\n",
       "      <th>id</th>\n",
       "      <th>listing_url</th>\n",
       "      <th>scrape_id</th>\n",
       "      <th>last_scraped</th>\n",
       "      <th>name</th>\n",
       "      <th>summary</th>\n",
       "      <th>space</th>\n",
       "      <th>description</th>\n",
       "      <th>experiences_offered</th>\n",
       "      <th>neighborhood_overview</th>\n",
       "      <th>...</th>\n",
       "      <th>review_scores_value</th>\n",
       "      <th>requires_license</th>\n",
       "      <th>license</th>\n",
       "      <th>jurisdiction_names</th>\n",
       "      <th>instant_bookable</th>\n",
       "      <th>cancellation_policy</th>\n",
       "      <th>require_guest_profile_picture</th>\n",
       "      <th>require_guest_phone_verification</th>\n",
       "      <th>calculated_host_listings_count</th>\n",
       "      <th>reviews_per_month</th>\n",
       "    </tr>\n",
       "  </thead>\n",
       "  <tbody>\n",
       "    <tr>\n",
       "      <th>0</th>\n",
       "      <td>241032</td>\n",
       "      <td>https://www.airbnb.com/rooms/241032</td>\n",
       "      <td>20160104002432</td>\n",
       "      <td>2016-01-04</td>\n",
       "      <td>Stylish Queen Anne Apartment</td>\n",
       "      <td>NaN</td>\n",
       "      <td>Make your self at home in this charming one-be...</td>\n",
       "      <td>Make your self at home in this charming one-be...</td>\n",
       "      <td>none</td>\n",
       "      <td>NaN</td>\n",
       "      <td>...</td>\n",
       "      <td>10.0</td>\n",
       "      <td>f</td>\n",
       "      <td>NaN</td>\n",
       "      <td>WASHINGTON</td>\n",
       "      <td>f</td>\n",
       "      <td>moderate</td>\n",
       "      <td>f</td>\n",
       "      <td>f</td>\n",
       "      <td>2</td>\n",
       "      <td>4.07</td>\n",
       "    </tr>\n",
       "  </tbody>\n",
       "</table>\n",
       "<p>1 rows × 92 columns</p>\n",
       "</div>"
      ],
      "text/plain": [
       "       id                          listing_url       scrape_id last_scraped  \\\n",
       "0  241032  https://www.airbnb.com/rooms/241032  20160104002432   2016-01-04   \n",
       "\n",
       "                           name summary  \\\n",
       "0  Stylish Queen Anne Apartment     NaN   \n",
       "\n",
       "                                               space  \\\n",
       "0  Make your self at home in this charming one-be...   \n",
       "\n",
       "                                         description experiences_offered  \\\n",
       "0  Make your self at home in this charming one-be...                none   \n",
       "\n",
       "  neighborhood_overview  ... review_scores_value requires_license license  \\\n",
       "0                   NaN  ...                10.0                f     NaN   \n",
       "\n",
       "  jurisdiction_names instant_bookable cancellation_policy  \\\n",
       "0         WASHINGTON                f            moderate   \n",
       "\n",
       "   require_guest_profile_picture require_guest_phone_verification  \\\n",
       "0                              f                                f   \n",
       "\n",
       "  calculated_host_listings_count reviews_per_month  \n",
       "0                              2              4.07  \n",
       "\n",
       "[1 rows x 92 columns]"
      ]
     },
     "execution_count": 12,
     "metadata": {},
     "output_type": "execute_result"
    }
   ],
   "source": [
    "# Display the first 1 rows of the seattle_listing DataFrame\n",
    "seattle_listing.head(1)"
   ]
  },
  {
   "cell_type": "code",
   "execution_count": 13,
   "id": "3d136989",
   "metadata": {},
   "outputs": [
    {
     "name": "stdout",
     "output_type": "stream",
     "text": [
      "<class 'pandas.core.frame.DataFrame'>\n",
      "RangeIndex: 3818 entries, 0 to 3817\n",
      "Data columns (total 92 columns):\n",
      " #   Column                            Non-Null Count  Dtype  \n",
      "---  ------                            --------------  -----  \n",
      " 0   id                                3818 non-null   int64  \n",
      " 1   listing_url                       3818 non-null   object \n",
      " 2   scrape_id                         3818 non-null   int64  \n",
      " 3   last_scraped                      3818 non-null   object \n",
      " 4   name                              3818 non-null   object \n",
      " 5   summary                           3641 non-null   object \n",
      " 6   space                             3249 non-null   object \n",
      " 7   description                       3818 non-null   object \n",
      " 8   experiences_offered               3818 non-null   object \n",
      " 9   neighborhood_overview             2786 non-null   object \n",
      " 10  notes                             2212 non-null   object \n",
      " 11  transit                           2884 non-null   object \n",
      " 12  thumbnail_url                     3498 non-null   object \n",
      " 13  medium_url                        3498 non-null   object \n",
      " 14  picture_url                       3818 non-null   object \n",
      " 15  xl_picture_url                    3498 non-null   object \n",
      " 16  host_id                           3818 non-null   int64  \n",
      " 17  host_url                          3818 non-null   object \n",
      " 18  host_name                         3816 non-null   object \n",
      " 19  host_since                        3816 non-null   object \n",
      " 20  host_location                     3810 non-null   object \n",
      " 21  host_about                        2959 non-null   object \n",
      " 22  host_response_time                3295 non-null   object \n",
      " 23  host_response_rate                3295 non-null   object \n",
      " 24  host_acceptance_rate              3045 non-null   object \n",
      " 25  host_is_superhost                 3816 non-null   object \n",
      " 26  host_thumbnail_url                3816 non-null   object \n",
      " 27  host_picture_url                  3816 non-null   object \n",
      " 28  host_neighbourhood                3518 non-null   object \n",
      " 29  host_listings_count               3816 non-null   float64\n",
      " 30  host_total_listings_count         3816 non-null   float64\n",
      " 31  host_verifications                3818 non-null   object \n",
      " 32  host_has_profile_pic              3816 non-null   object \n",
      " 33  host_identity_verified            3816 non-null   object \n",
      " 34  street                            3818 non-null   object \n",
      " 35  neighbourhood                     3402 non-null   object \n",
      " 36  neighbourhood_cleansed            3818 non-null   object \n",
      " 37  neighbourhood_group_cleansed      3818 non-null   object \n",
      " 38  city                              3818 non-null   object \n",
      " 39  state                             3818 non-null   object \n",
      " 40  zipcode                           3811 non-null   object \n",
      " 41  market                            3818 non-null   object \n",
      " 42  smart_location                    3818 non-null   object \n",
      " 43  country_code                      3818 non-null   object \n",
      " 44  country                           3818 non-null   object \n",
      " 45  latitude                          3818 non-null   float64\n",
      " 46  longitude                         3818 non-null   float64\n",
      " 47  is_location_exact                 3818 non-null   object \n",
      " 48  property_type                     3817 non-null   object \n",
      " 49  room_type                         3818 non-null   object \n",
      " 50  accommodates                      3818 non-null   int64  \n",
      " 51  bathrooms                         3802 non-null   float64\n",
      " 52  bedrooms                          3812 non-null   float64\n",
      " 53  beds                              3817 non-null   float64\n",
      " 54  bed_type                          3818 non-null   object \n",
      " 55  amenities                         3818 non-null   object \n",
      " 56  square_feet                       97 non-null     float64\n",
      " 57  price                             3818 non-null   object \n",
      " 58  weekly_price                      2009 non-null   object \n",
      " 59  monthly_price                     1517 non-null   object \n",
      " 60  security_deposit                  1866 non-null   object \n",
      " 61  cleaning_fee                      2788 non-null   object \n",
      " 62  guests_included                   3818 non-null   int64  \n",
      " 63  extra_people                      3818 non-null   object \n",
      " 64  minimum_nights                    3818 non-null   int64  \n",
      " 65  maximum_nights                    3818 non-null   int64  \n",
      " 66  calendar_updated                  3818 non-null   object \n",
      " 67  has_availability                  3818 non-null   object \n",
      " 68  availability_30                   3818 non-null   int64  \n",
      " 69  availability_60                   3818 non-null   int64  \n",
      " 70  availability_90                   3818 non-null   int64  \n",
      " 71  availability_365                  3818 non-null   int64  \n",
      " 72  calendar_last_scraped             3818 non-null   object \n",
      " 73  number_of_reviews                 3818 non-null   int64  \n",
      " 74  first_review                      3191 non-null   object \n",
      " 75  last_review                       3191 non-null   object \n",
      " 76  review_scores_rating              3171 non-null   float64\n",
      " 77  review_scores_accuracy            3160 non-null   float64\n",
      " 78  review_scores_cleanliness         3165 non-null   float64\n",
      " 79  review_scores_checkin             3160 non-null   float64\n",
      " 80  review_scores_communication       3167 non-null   float64\n",
      " 81  review_scores_location            3163 non-null   float64\n",
      " 82  review_scores_value               3162 non-null   float64\n",
      " 83  requires_license                  3818 non-null   object \n",
      " 84  license                           0 non-null      float64\n",
      " 85  jurisdiction_names                3818 non-null   object \n",
      " 86  instant_bookable                  3818 non-null   object \n",
      " 87  cancellation_policy               3818 non-null   object \n",
      " 88  require_guest_profile_picture     3818 non-null   object \n",
      " 89  require_guest_phone_verification  3818 non-null   object \n",
      " 90  calculated_host_listings_count    3818 non-null   int64  \n",
      " 91  reviews_per_month                 3191 non-null   float64\n",
      "dtypes: float64(17), int64(13), object(62)\n",
      "memory usage: 2.7+ MB\n"
     ]
    }
   ],
   "source": [
    "# Display information about the seattle_listing DataFrame\n",
    "\n",
    "seattle_listing.info()"
   ]
  },
  {
   "cell_type": "markdown",
   "id": "5d79c9e9",
   "metadata": {},
   "source": [
    "- Data Preparation"
   ]
  },
  {
   "cell_type": "code",
   "execution_count": 14,
   "id": "f840aa30",
   "metadata": {},
   "outputs": [
    {
     "data": {
      "text/plain": [
       "id                                  0.000000\n",
       "listing_url                         0.000000\n",
       "scrape_id                           0.000000\n",
       "last_scraped                        0.000000\n",
       "name                                0.000000\n",
       "                                      ...   \n",
       "cancellation_policy                 0.000000\n",
       "require_guest_profile_picture       0.000000\n",
       "require_guest_phone_verification    0.000000\n",
       "calculated_host_listings_count      0.000000\n",
       "reviews_per_month                   0.164222\n",
       "Length: 92, dtype: float64"
      ]
     },
     "execution_count": 14,
     "metadata": {},
     "output_type": "execute_result"
    }
   ],
   "source": [
    "# Calculate the percentage of missing values in each column of the seattle_listing DataFrame\n",
    "\n",
    "seattle_listing.isnull().sum()/seattle_listing.shape[0]"
   ]
  },
  {
   "cell_type": "code",
   "execution_count": 15,
   "id": "462167db",
   "metadata": {
    "scrolled": true
   },
   "outputs": [
    {
     "name": "stdout",
     "output_type": "stream",
     "text": [
      "license             100.000000\n",
      "square_feet          97.459403\n",
      "monthly_price        60.267156\n",
      "security_deposit     51.126244\n",
      "weekly_price         47.380828\n",
      "                       ...    \n",
      "room_type             0.000000\n",
      "accommodates          0.000000\n",
      "bed_type              0.000000\n",
      "amenities             0.000000\n",
      "longitude             0.000000\n",
      "Length: 92, dtype: float64\n"
     ]
    }
   ],
   "source": [
    "# Calculate the percentage of missing values for each column\n",
    "missing_percentage = seattle_listing.isnull().sum() / len(seattle_listing) * 100\n",
    "\n",
    "# Sort the columns by their missing percentage in descending order\n",
    "missing_percentage = missing_percentage.sort_values(ascending=False)\n",
    "\n",
    "# Print the columns and their corresponding missing percentages\n",
    "print(missing_percentage)"
   ]
  },
  {
   "cell_type": "code",
   "execution_count": 16,
   "id": "91e06393",
   "metadata": {},
   "outputs": [],
   "source": [
    "#Dropping Columns with more that 50% Null values\n",
    "\n",
    "# Calculate the percentage of missing values for each column\n",
    "missing_percentage = seattle_listing.isnull().sum() / len(seattle_listing) * 100\n",
    "\n",
    "# Get the column names where missing percentage is greater than 50%\n",
    "columns_to_drop = missing_percentage[missing_percentage > 50].index\n",
    "\n",
    "# Drop the columns from the DataFrame\n",
    "seattle_listing = seattle_listing.drop(columns_to_drop, axis=1)"
   ]
  },
  {
   "cell_type": "code",
   "execution_count": 17,
   "id": "d413b04b",
   "metadata": {},
   "outputs": [
    {
     "name": "stdout",
     "output_type": "stream",
     "text": [
      "license             100.000000\n",
      "square_feet          97.459403\n",
      "monthly_price        60.267156\n",
      "security_deposit     51.126244\n",
      "weekly_price         47.380828\n",
      "                       ...    \n",
      "room_type             0.000000\n",
      "accommodates          0.000000\n",
      "bed_type              0.000000\n",
      "amenities             0.000000\n",
      "longitude             0.000000\n",
      "Length: 92, dtype: float64\n"
     ]
    }
   ],
   "source": [
    "#Lets check again Missing values in descending order\n",
    "\n",
    "# Sort the columns by their missing percentage in descending order\n",
    "missing_percentage = missing_percentage.sort_values(ascending=False)\n",
    "\n",
    "# Print the columns and their corresponding missing percentages\n",
    "print(missing_percentage)"
   ]
  },
  {
   "cell_type": "code",
   "execution_count": 18,
   "id": "80813298",
   "metadata": {
    "scrolled": true
   },
   "outputs": [
    {
     "name": "stdout",
     "output_type": "stream",
     "text": [
      "0        85.0\n",
      "1       150.0\n",
      "2       975.0\n",
      "3       100.0\n",
      "4       450.0\n",
      "        ...  \n",
      "3813    359.0\n",
      "3814     79.0\n",
      "3815     93.0\n",
      "3816     99.0\n",
      "3817     87.0\n",
      "Name: price, Length: 3818, dtype: float64\n"
     ]
    }
   ],
   "source": [
    "# Convert the 'price' column in the seattle_listing DataFrame to string data type\n",
    "seattle_listing['price'] = seattle_listing['price'].astype(str)\n",
    "\n",
    "# Remove the dollar sign ($) from the 'price' column in the seattle_listing DataFrame\n",
    "seattle_listing['price'] = seattle_listing['price'].str.replace('$', '')\n",
    "\n",
    "# Remove commas from the 'price' column in the seattle_listing DataFrame\n",
    "seattle_listing['price'] = seattle_listing['price'].str.replace(',', '')\n",
    "\n",
    "# Convert the 'price' column of the seattle_listing DataFrame to float data type\n",
    "seattle_listing['price'] = seattle_listing['price'].astype(float)\n",
    "\n",
    "print(seattle_listing['price'])"
   ]
  },
  {
   "cell_type": "markdown",
   "id": "42d6f519",
   "metadata": {},
   "source": [
    "- Data Visualisation"
   ]
  },
  {
   "cell_type": "code",
   "execution_count": 19,
   "id": "b59f30fe",
   "metadata": {
    "scrolled": true
   },
   "outputs": [
    {
     "name": "stdout",
     "output_type": "stream",
     "text": [
      "Entire home/apt    2541\n",
      "Private room       1160\n",
      "Shared room         117\n",
      "Name: room_type, dtype: int64\n"
     ]
    }
   ],
   "source": [
    "# Count the number of each room type\n",
    "room_type_counts = seattle_listing['room_type'].value_counts()\n",
    "\n",
    "print(room_type_counts)"
   ]
  },
  {
   "cell_type": "code",
   "execution_count": 20,
   "id": "ef7c3b51",
   "metadata": {},
   "outputs": [
    {
     "data": {
      "image/png": "[encoded data removed]",
      "text/plain": [
       "<Figure size 432x288 with 1 Axes>"
      ]
     },
     "metadata": {},
     "output_type": "display_data"
    }
   ],
   "source": [
    "# room types\n",
    "room_types = ['Entire home/apt', 'Private room', 'Shared room']\n",
    "sizes = [2541, 1160, 117]  # Values representing the sizes of each category\n",
    "\n",
    "# Define colors for each category\n",
    "colors = ['orange', 'green', 'red']\n",
    "\n",
    "# Create the pie chart\n",
    "plt.pie(sizes, labels=room_types, autopct='%1.1f%%', colors=colors)\n",
    "\n",
    "# Add a title\n",
    "plt.title('Distribution of Room Types')\n",
    "\n",
    "# Display the chart\n",
    "plt.show()"
   ]
  },
  {
   "cell_type": "code",
   "execution_count": 21,
   "id": "78d81453",
   "metadata": {},
   "outputs": [
    {
     "data": {
      "image/png": "[encoded data removed]",
      "text/plain": [
       "<Figure size 432x288 with 1 Axes>"
      ]
     },
     "metadata": {
      "needs_background": "light"
     },
     "output_type": "display_data"
    }
   ],
   "source": [
    "# Count the number of each property type\n",
    "property_counts = seattle_listing['property_type'].value_counts()\n",
    "\n",
    "# Create a bar plot\n",
    "property_counts.plot.bar(color='orange')\n",
    "\n",
    "# Set the x-axis label, y-axis label, and title of the plot\n",
    "plt.xlabel('Property Type')\n",
    "plt.ylabel('Count')\n",
    "plt.title('Number of Listings by Property Type')\n",
    "\n",
    "# Display the plot\n",
    "plt.show()"
   ]
  },
  {
   "cell_type": "code",
   "execution_count": 22,
   "id": "538d70c2",
   "metadata": {},
   "outputs": [
    {
     "name": "stdout",
     "output_type": "stream",
     "text": [
      "House              1733\n",
      "Apartment          1708\n",
      "Townhouse           118\n",
      "Condominium          91\n",
      "Loft                 40\n",
      "Bed & Breakfast      37\n",
      "Other                22\n",
      "Cabin                21\n",
      "Camper/RV            13\n",
      "Bungalow             13\n",
      "Boat                  8\n",
      "Tent                  5\n",
      "Treehouse             3\n",
      "Dorm                  2\n",
      "Chalet                2\n",
      "Yurt                  1\n",
      "Name: property_type, dtype: int64\n"
     ]
    }
   ],
   "source": [
    "# Count the number of each room type\n",
    "property_type_counts = seattle_listing['property_type'].value_counts()\n",
    "\n",
    "print(property_type_counts)"
   ]
  },
  {
   "cell_type": "code",
   "execution_count": 23,
   "id": "5a8b2325",
   "metadata": {},
   "outputs": [
    {
     "data": {
      "image/png": "[encoded data removed]",
      "text/plain": [
       "<Figure size 432x288 with 1 Axes>"
      ]
     },
     "metadata": {},
     "output_type": "display_data"
    }
   ],
   "source": [
    "# property types\n",
    "property_types = ['House', 'Apartment', 'Townhouse', 'Condominium', 'Other']\n",
    "sizes = [1733, 1708, 118, 91, 167]  # Values representing the sizes of each category\n",
    "\n",
    "# Define colors for each category\n",
    "#colors = ['orange', 'green', 'red']\n",
    "\n",
    "# Create the pie chart\n",
    "plt.pie(sizes, labels=property_types, autopct='%1.1f%%') #, colors=colors)\n",
    "\n",
    "# Add a title\n",
    "plt.title('Distribution of Property Types')\n",
    "\n",
    "# Display the chart\n",
    "plt.show()"
   ]
  },
  {
   "cell_type": "code",
   "execution_count": 24,
   "id": "996d373f",
   "metadata": {},
   "outputs": [
    {
     "data": {
      "image/png": "[encoded data removed]",
      "text/plain": [
       "<Figure size 432x288 with 1 Axes>"
      ]
     },
     "metadata": {
      "needs_background": "light"
     },
     "output_type": "display_data"
    },
    {
     "data": {
      "image/png": "[encoded data removed]",
      "text/plain": [
       "<Figure size 432x288 with 1 Axes>"
      ]
     },
     "metadata": {
      "needs_background": "light"
     },
     "output_type": "display_data"
    },
    {
     "data": {
      "image/png": "[encoded data removed]",
      "text/plain": [
       "<Figure size 432x288 with 1 Axes>"
      ]
     },
     "metadata": {
      "needs_background": "light"
     },
     "output_type": "display_data"
    }
   ],
   "source": [
    "# Filtering property types with count between 0 and 50\n",
    "count_range_1 = property_counts[(property_counts >= 0) & (property_counts <= 20)]\n",
    "\n",
    "# Plotting the first bar chart\n",
    "count_range_1.plot.bar(color='skyblue')\n",
    "\n",
    "# Adding labels and title for the first plot\n",
    "plt.xlabel('Property Type')\n",
    "plt.ylabel('Count')\n",
    "plt.title('Number of Listings by Property Type (Count: 0-20)')\n",
    "\n",
    "# Displaying the first plot\n",
    "plt.show()\n",
    "\n",
    "# Filtering property types with count between 20 and 50\n",
    "count_range_2 = property_counts[(property_counts > 20) & (property_counts <= 50)]\n",
    "\n",
    "# Plotting the second bar chart\n",
    "count_range_2.plot.bar(color='red')\n",
    "\n",
    "# Adding labels and title for the second plot\n",
    "plt.xlabel('Property Type')\n",
    "plt.ylabel('Count')\n",
    "plt.title('Number of Listings by Property Type (Count: 20-50)')\n",
    "\n",
    "# Displaying the second plot\n",
    "plt.show()\n",
    "\n",
    "# Filtering property types with count between 50 and 250\n",
    "count_range_3 = property_counts[(property_counts > 50) & (property_counts <= 250)]\n",
    "\n",
    "# Plotting the third bar chart\n",
    "count_range_3.plot.bar(color='lightgreen')\n",
    "\n",
    "# Adding labels and title for the third plot\n",
    "plt.xlabel('Property Type')\n",
    "plt.ylabel('Count')\n",
    "plt.title('Number of Listings by Property Type (Count: 50-250)')\n",
    "\n",
    "# Displaying the third plot\n",
    "plt.show()"
   ]
  },
  {
   "cell_type": "code",
   "execution_count": 25,
   "id": "0adf6c36",
   "metadata": {},
   "outputs": [
    {
     "name": "stdout",
     "output_type": "stream",
     "text": [
      "                  min     max\n",
      "room_type                    \n",
      "Entire home/apt  39.0  1000.0\n",
      "Private room     20.0   399.0\n",
      "Shared room      22.0   118.0\n"
     ]
    }
   ],
   "source": [
    "# Group the data by room_type and calculate the minimum and maximum prices for each room type\n",
    "price_ranges = seattle_listing.groupby('room_type')['price'].agg(['min', 'max'])\n",
    "\n",
    "# Print the price ranges for each room type\n",
    "print(price_ranges)"
   ]
  },
  {
   "cell_type": "markdown",
   "id": "e94e08ce",
   "metadata": {},
   "source": [
    "### Answer\n",
    "- The room types with the largest counts are Entire home/apt, followed by private, and the lowest counts are shared room.\n",
    "\n",
    "- Price range for Entire home/apt, Private room and Shared room is 39 to 1,000 USD, 20 to 399 USD and 22 to 118 USD respectively."
   ]
  },
  {
   "cell_type": "markdown",
   "id": "0d97e3fa",
   "metadata": {},
   "source": [
    "### iii. Review"
   ]
  },
  {
   "cell_type": "markdown",
   "id": "5e7d7279",
   "metadata": {},
   "source": [
    "- Data Understanding"
   ]
  },
  {
   "cell_type": "code",
   "execution_count": 26,
   "id": "4ffb27d3",
   "metadata": {},
   "outputs": [],
   "source": [
    "# Load data from the 'reviews.csv' file into a pandas DataFrame\n",
    "\n",
    "seattle_review = pd.read_csv('reviews.csv')"
   ]
  },
  {
   "cell_type": "code",
   "execution_count": 27,
   "id": "757326d4",
   "metadata": {},
   "outputs": [
    {
     "data": {
      "text/html": [
       "<div>\n",
       "<style scoped>\n",
       "    .dataframe tbody tr th:only-of-type {\n",
       "        vertical-align: middle;\n",
       "    }\n",
       "\n",
       "    .dataframe tbody tr th {\n",
       "        vertical-align: top;\n",
       "    }\n",
       "\n",
       "    .dataframe thead th {\n",
       "        text-align: right;\n",
       "    }\n",
       "</style>\n",
       "<table border=\"1\" class=\"dataframe\">\n",
       "  <thead>\n",
       "    <tr style=\"text-align: right;\">\n",
       "      <th></th>\n",
       "      <th>listing_id</th>\n",
       "      <th>id</th>\n",
       "      <th>date</th>\n",
       "      <th>reviewer_id</th>\n",
       "      <th>reviewer_name</th>\n",
       "      <th>comments</th>\n",
       "    </tr>\n",
       "  </thead>\n",
       "  <tbody>\n",
       "    <tr>\n",
       "      <th>0</th>\n",
       "      <td>7202016</td>\n",
       "      <td>38917982</td>\n",
       "      <td>2015-07-19</td>\n",
       "      <td>28943674</td>\n",
       "      <td>Bianca</td>\n",
       "      <td>Cute and cozy place. Perfect location to every...</td>\n",
       "    </tr>\n",
       "    <tr>\n",
       "      <th>1</th>\n",
       "      <td>7202016</td>\n",
       "      <td>39087409</td>\n",
       "      <td>2015-07-20</td>\n",
       "      <td>32440555</td>\n",
       "      <td>Frank</td>\n",
       "      <td>Kelly has a great room in a very central locat...</td>\n",
       "    </tr>\n",
       "  </tbody>\n",
       "</table>\n",
       "</div>"
      ],
      "text/plain": [
       "   listing_id        id        date  reviewer_id reviewer_name  \\\n",
       "0     7202016  38917982  2015-07-19     28943674        Bianca   \n",
       "1     7202016  39087409  2015-07-20     32440555         Frank   \n",
       "\n",
       "                                            comments  \n",
       "0  Cute and cozy place. Perfect location to every...  \n",
       "1  Kelly has a great room in a very central locat...  "
      ]
     },
     "execution_count": 27,
     "metadata": {},
     "output_type": "execute_result"
    }
   ],
   "source": [
    "# Display the first 2 rows of the seattle_review DataFrame\n",
    "\n",
    "seattle_review.head(2)"
   ]
  },
  {
   "cell_type": "code",
   "execution_count": 28,
   "id": "9f1e4b1f",
   "metadata": {},
   "outputs": [
    {
     "name": "stdout",
     "output_type": "stream",
     "text": [
      "<class 'pandas.core.frame.DataFrame'>\n",
      "RangeIndex: 84849 entries, 0 to 84848\n",
      "Data columns (total 6 columns):\n",
      " #   Column         Non-Null Count  Dtype \n",
      "---  ------         --------------  ----- \n",
      " 0   listing_id     84849 non-null  int64 \n",
      " 1   id             84849 non-null  int64 \n",
      " 2   date           84849 non-null  object\n",
      " 3   reviewer_id    84849 non-null  int64 \n",
      " 4   reviewer_name  84849 non-null  object\n",
      " 5   comments       84831 non-null  object\n",
      "dtypes: int64(3), object(3)\n",
      "memory usage: 3.9+ MB\n"
     ]
    }
   ],
   "source": [
    "# Display information about the seattle_review DataFrame\n",
    "\n",
    "seattle_review.info()"
   ]
  },
  {
   "cell_type": "markdown",
   "id": "a79e91b7",
   "metadata": {},
   "source": [
    "- Data Preparation"
   ]
  },
  {
   "cell_type": "code",
   "execution_count": 29,
   "id": "5f7091a8",
   "metadata": {},
   "outputs": [
    {
     "data": {
      "text/plain": [
       "listing_id       0.000000\n",
       "id               0.000000\n",
       "date             0.000000\n",
       "reviewer_id      0.000000\n",
       "reviewer_name    0.000000\n",
       "comments         0.000212\n",
       "dtype: float64"
      ]
     },
     "execution_count": 29,
     "metadata": {},
     "output_type": "execute_result"
    }
   ],
   "source": [
    "# Calculate the percentage of missing values in each column of the seattle_review DataFrame\n",
    "\n",
    "seattle_review.isnull().sum()/seattle_review.shape[0]"
   ]
  },
  {
   "cell_type": "code",
   "execution_count": 30,
   "id": "b338b678",
   "metadata": {},
   "outputs": [
    {
     "name": "stdout",
     "output_type": "stream",
     "text": [
      "0        Cute and cozy place. Perfect location to every...\n",
      "1        Kelly has a great room in a very central locat...\n",
      "2        Very spacious apartment, and in a great neighb...\n",
      "3        Close to Seattle Center and all it has to offe...\n",
      "4        Kelly was a great host and very accommodating ...\n",
      "                               ...                        \n",
      "84844    The description and pictures of the apartment ...\n",
      "84845    We had an excellent stay. It was clean and com...\n",
      "84846    Gran ubicación, cerca de todo lo atractivo del...\n",
      "84847    Very good apartement, clean and well sized. Si...\n",
      "84848    Breanne was a great host. Check in was easy, s...\n",
      "Name: comments, Length: 84849, dtype: object\n"
     ]
    }
   ],
   "source": [
    "# Fill missing values in the 'comments' column of the seattle_review DataFrame with 0\n",
    "seattle_review['comments'].fillna(0, inplace=True)\n",
    "\n",
    "# Print the 'price' column\n",
    "print(seattle_review['comments'])"
   ]
  },
  {
   "cell_type": "code",
   "execution_count": 31,
   "id": "03f3b72d",
   "metadata": {},
   "outputs": [
    {
     "data": {
      "text/plain": [
       "listing_id       0.0\n",
       "id               0.0\n",
       "date             0.0\n",
       "reviewer_id      0.0\n",
       "reviewer_name    0.0\n",
       "comments         0.0\n",
       "dtype: float64"
      ]
     },
     "execution_count": 31,
     "metadata": {},
     "output_type": "execute_result"
    }
   ],
   "source": [
    "# Check if there are any null values in the seattle_review DataFrame after treating them\n",
    "seattle_review.isnull().sum() / seattle_review.shape[0]"
   ]
  },
  {
   "cell_type": "markdown",
   "id": "a193b613",
   "metadata": {},
   "source": [
    "- Data Visualisation"
   ]
  },
  {
   "cell_type": "code",
   "execution_count": 32,
   "id": "4bc5b053",
   "metadata": {},
   "outputs": [
    {
     "data": {
      "image/png": "[encoded data removed]",
      "text/plain": [
       "<Figure size 432x288 with 1 Axes>"
      ]
     },
     "metadata": {
      "needs_background": "light"
     },
     "output_type": "display_data"
    }
   ],
   "source": [
    "# convert date column to datetime format\n",
    "seattle_review['date'] = pd.to_datetime(seattle_review['date'], errors = 'coerce', utc = True)\n",
    "\n",
    "# Filter the data for the years 2009 to 2016\n",
    "filtered_data = seattle_review[(seattle_review['date'].dt.year >= 2009) & (seattle_review['date'].dt.year <= 2016)]\n",
    "\n",
    "# Calculate the count of comments for each listing_id within each year\n",
    "grouped_data = filtered_data.groupby(['listing_id', filtered_data['date'].dt.year])['comments'].count().reset_index()\n",
    "\n",
    "# Identify the top 5 listing_ids with the highest comment counts across all the years\n",
    "top_5_listing_ids = grouped_data.groupby('listing_id')['comments'].sum().nlargest(5).index\n",
    "\n",
    "# Filter the grouped data for the top 5 listing_ids\n",
    "top_5_data = grouped_data[grouped_data['listing_id'].isin(top_5_listing_ids)]\n",
    "\n",
    "# Plot the stacked graph\n",
    "pivot_data = top_5_data.pivot(index='date', columns='listing_id', values='comments')\n",
    "pivot_data.plot(kind='bar', stacked=True)\n",
    "#plt.bar(date, comments, edgecolor='black', linewidth=1, capsize=5)\n",
    "\n",
    "# Set the labels and title\n",
    "plt.xlabel('Years')\n",
    "plt.ylabel('Counts of Comments')\n",
    "plt.title('Top 5 Listing IDs with Most Comments (2009-2016)')\n",
    "\n",
    "# Show the plot\n",
    "plt.show()\n",
    "\n",
    "\n",
    "# Create bar chart with rounded edges\n",
    "#plt.bar(categories, values, edgecolor='black', linewidth=1, capsize=5)\n",
    "\n",
    "# Customize the chart\n",
    "#plt.xlabel('Categories')\n",
    "#plt.ylabel('Values')\n",
    "#plt.title('Bar Chart with Rounded Edges')\n",
    "\n",
    "# Display the chart\n",
    "#plt.show()"
   ]
  },
  {
   "cell_type": "code",
   "execution_count": 33,
   "id": "d4f060a3",
   "metadata": {
    "scrolled": true
   },
   "outputs": [
    {
     "name": "stdout",
     "output_type": "stream",
     "text": [
      "                                     name  price\n",
      "1441  contemporary art loft downtown [17]   89.0\n",
      "1447   contemporary art loft downtown [7]   89.0\n",
      "2568    Guest Studio - North Capitol Hill   89.0\n",
      "3083   Beautiful, Quiet, Friendly Ballard   75.0\n",
      "3600    Capitol Hill Suite + Free Parking   65.0\n"
     ]
    }
   ],
   "source": [
    "# create a list called ids\n",
    "ids = [25002, 47196, 63308, 208356, 365550]\n",
    "\n",
    "# filter seattle_listing's id based on ids created above\n",
    "filtered_df = seattle_listing[seattle_listing['id'].isin(ids)]\n",
    "\n",
    "# store name and price in result\n",
    "result = filtered_df[['name', 'price']]\n",
    "\n",
    "print(result)"
   ]
  },
  {
   "cell_type": "code",
   "execution_count": 34,
   "id": "a9f61c8f",
   "metadata": {},
   "outputs": [
    {
     "name": "stdout",
     "output_type": "stream",
     "text": [
      "listing_id  63308   208356  365550\n",
      "month                             \n",
      "Apr             30      30      30\n",
      "Aug             31      31      31\n",
      "Dec             31      31      31\n",
      "Feb             29      29      29\n",
      "Jan             30      30      30\n",
      "Jul             31      31      31\n",
      "Jun             30      30      30\n",
      "Mar             31      31      31\n",
      "May             31      31      31\n",
      "Nov             30      30      30\n",
      "Oct             31      31      31\n",
      "Sep             30      30      30\n",
      "listing_id  63308   208356  365550\n",
      "month                             \n",
      "Jan             30      30      30\n",
      "Feb             29      29      29\n",
      "Mar             31      31      31\n",
      "Apr             30      30      30\n",
      "May             31      31      31\n",
      "Jun             30      30      30\n",
      "Jul             31      31      31\n",
      "Aug             31      31      31\n",
      "Sep             30      30      30\n",
      "Oct             31      31      31\n",
      "Nov             30      30      30\n",
      "Dec             31      31      31\n"
     ]
    },
    {
     "data": {
      "image/png": "[encoded data removed]",
      "text/plain": [
       "<Figure size 432x288 with 1 Axes>"
      ]
     },
     "metadata": {
      "needs_background": "light"
     },
     "output_type": "display_data"
    }
   ],
   "source": [
    "# Create a list of months in the desired order\n",
    "months = ['Jan', 'Feb', 'Mar', 'Apr', 'May', 'Jun', 'Jul', 'Aug', 'Sept', 'Oct', 'Nov', 'Dec']\n",
    "\n",
    "# Create a DataFrame with the months\n",
    "df = pd.DataFrame({'Month': months})\n",
    "\n",
    "# Convert the 'Month' column to a categorical data type with the desired order\n",
    "df['Month'] = pd.Categorical(df['Month'], categories=months,  ordered=True)\n",
    "\n",
    "# Sort the DataFrame by the 'Month' column\n",
    "df = df.sort_values ('Month')\n",
    "\n",
    "# print (df)\n",
    "\n",
    "# Reset the index of the DataFrame\n",
    "df = df.reset_index(drop=True)\n",
    "\n",
    "# Filter the data for the specific listing IDs\n",
    "filtered_data = seattle_calendar[seattle_calendar['listing_id'].isin([25002, 47196, 63308, 208356, 365550])]\n",
    "\n",
    "# Convert the 'date' column to datetime format\n",
    "filtered_data['date'] = pd.to_datetime(filtered_data['date'])\n",
    "\n",
    "# Extract the month from the 'date' column\n",
    "filtered_data['month'] = filtered_data['date'].dt.strftime('%b')\n",
    "\n",
    "# print(filtered_data)\n",
    "\n",
    "# filtered_data = filtered_data.sort_values('month')\n",
    "\n",
    "# print(filtered_data)\n",
    "\n",
    "# Group the data by month and listing ID, and count the number of occurrences\n",
    "grouped_data = filtered_data.groupby(['month','listing_id']).size().unstack()\n",
    "\n",
    "print (grouped_data)\n",
    "\n",
    "# Define the desired order of the months\n",
    "desired_order = ['Jan', 'Feb', 'Mar', 'Apr', 'May', 'Jun', 'Jul', 'Aug', 'Sep', 'Oct', 'Nov', 'Dec']\n",
    "\n",
    "# Reindex the grouped data using the desired order\n",
    "grouped_data = grouped_data.reindex(desired_order, axis='index')\n",
    "\n",
    "print (grouped_data)\n",
    "\n",
    "# Plot the stacked bar chart\n",
    "grouped_data.plot(kind='bar', stacked=True)\n",
    "\n",
    "# Set the labels and title\n",
    "plt.xlabel('Month')\n",
    "plt.ylabel('Counts')\n",
    "plt.title('Availability of Listing IDs')\n",
    "\n",
    "# Show the legend\n",
    "plt.legend(title='Listing ID')\n",
    "\n",
    "# Display the chart\n",
    "plt.show()"
   ]
  },
  {
   "cell_type": "code",
   "execution_count": 35,
   "id": "59f27d22",
   "metadata": {},
   "outputs": [
    {
     "name": "stdout",
     "output_type": "stream",
     "text": [
      "1441       Private room\n",
      "1447       Private room\n",
      "2568    Entire home/apt\n",
      "3083    Entire home/apt\n",
      "3600       Private room\n",
      "Name: room_type, dtype: object\n"
     ]
    }
   ],
   "source": [
    "# check if 25002, 47196, 63308, 208356, 365550 are in room_types\n",
    "room_types = seattle_listing.loc[seattle_listing['id'].isin([25002, 47196, 63308, 208356, 365550]), 'room_type']\n",
    "\n",
    "print(room_types)"
   ]
  },
  {
   "cell_type": "markdown",
   "id": "788d20a9",
   "metadata": {},
   "source": [
    "### Answer\n",
    "- The top 5 rooms that have drawn the most attention (comments/ reviews) between 2009 and 2016 are private rooms and the entire house/apartment; they are the contemporary art loft downtown rooms 17 and 7, the guest studio on North Capitol Hill, the lovely, peaceful, and friendly Ballard, and the Capitol Hill Suite with free parking."
   ]
  },
  {
   "cell_type": "markdown",
   "id": "d613a95c",
   "metadata": {},
   "source": [
    "### Conclusion"
   ]
  },
  {
   "cell_type": "markdown",
   "id": "351520ac",
   "metadata": {},
   "source": [
    "In wrapping up, there's a whole world of reasons to choose a Seattle Airbnb beyond what we've covered—like all the fantastic family activities waiting for you in the city! But rest assured, adventurers, because with our trusty dataset in hand, we're equipped to navigate it all. And hey, don't forget to check out the Seattle Airbnb site for even more insider info. Here's to an epic trip to Seattle—see you there!"
   ]
  }
 ],
 "metadata": {
  "kernelspec": {
   "display_name": "Python 3",
   "language": "python",
   "name": "python3"
  },
  "language_info": {
   "codemirror_mode": {
    "name": "ipython",
    "version": 3
   },
   "file_extension": ".py",
   "mimetype": "text/x-python",
   "name": "python",
   "nbconvert_exporter": "python",
   "pygments_lexer": "ipython3",
   "version": "3.8.8"
  }
 },
 "nbformat": 4,
 "nbformat_minor": 5
}
